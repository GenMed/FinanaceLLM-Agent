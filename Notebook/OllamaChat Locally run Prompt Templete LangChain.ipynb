{
 "cells": [
  {
   "cell_type": "code",
   "execution_count": null,
   "id": "afa8ae28-f3d9-4c5c-af6c-a63a2bedb1f6",
   "metadata": {},
   "outputs": [],
   "source": [
    "from langchain.retrievers.multi_query import MultiQueryRetriever\n",
    "from langchain_community.chat_models import ChatOllama, ChatOpenAI\n",
    "from langchain_community.document_loaders import WebBaseLoader\n",
    "from langchain_community.embeddings import OllamaEmbeddings\n",
    "from langchain_community.vectorstores import Chroma\n",
    "from langchain_core.output_parsers import StrOutputParser\n",
    "from langchain_core.prompts import ChatPromptTemplate, PromptTemplate\n",
    "from langchain_core.pydantic_v1 import BaseModel\n",
    "from langchain_core.runnables import RunnableParallel, RunnablePassthrough\n",
    "from langchain_text_splitters import RecursiveCharacterTextSplitter"
   ]
  },
  {
   "cell_type": "markdown",
   "id": "87d05ed0-fc1b-4629-82c8-4d73bcb444fd",
   "metadata": {},
   "source": [
    "#### Loading the Data from Web "
   ]
  },
  {
   "cell_type": "code",
   "execution_count": 2,
   "id": "681dded0-4afd-40fb-a508-fd4e096853cf",
   "metadata": {},
   "outputs": [],
   "source": [
    "# Load\n",
    "loader = WebBaseLoader(\"https://omahonydonnelly.ie/gross-margin-profitability/\")\n",
    "data = loader.load()"
   ]
  },
  {
   "cell_type": "code",
   "execution_count": 10,
   "id": "e4e86435-9940-45a9-b087-ba79006e10dd",
   "metadata": {},
   "outputs": [
    {
     "name": "stdout",
     "output_type": "stream",
     "text": [
      "Processed 1 web context\n"
     ]
    }
   ],
   "source": [
    "DB_PATH = \"vectorstores/db/\"\n",
    "\n",
    "def create_vector_db():\n",
    "    loader = WebBaseLoader(\"https://www.klipfolio.com/resources/kpi-examples/financial/gross-margin\")\n",
    "    documents = loader.load()\n",
    "    print(f\"Processed {len(documents)} web context\")\n",
    "    text_splitter = RecursiveCharacterTextSplitter(chunk_size=1000, chunk_overlap=50)\n",
    "    texts=text_splitter.split_documents(documents)\n",
    "    vectorstore = Chroma.from_documents(documents=texts, collection_name=\"rag-private\",embedding=OllamaEmbeddings(),persist_directory=DB_PATH)      \n",
    "    vectorstore.persist()\n",
    "    return vectorstore"
   ]
  },
  {
   "cell_type": "code",
   "execution_count": null,
   "id": "b9037aeb-19a1-40cd-851c-11929a0e6755",
   "metadata": {},
   "outputs": [],
   "source": [
    "vectorstore = reate_vector_db()"
   ]
  },
  {
   "cell_type": "code",
   "execution_count": 7,
   "id": "8feeddd1-3b41-48c3-8971-223c0548fdb7",
   "metadata": {},
   "outputs": [],
   "source": [
    "DB_PATH = \"vectorstores/db/\"\n",
    "\n",
    "vectorstore = Chroma(persist_directory=DB_PATH, embedding_function=OllamaEmbeddings())\n",
    "\n"
   ]
  },
  {
   "cell_type": "code",
   "execution_count": 5,
   "id": "979bf71c-f539-40c2-a537-73784f2f2ab9",
   "metadata": {},
   "outputs": [
    {
     "name": "stdout",
     "output_type": "stream",
     "text": [
      "Processed 1 web context\n"
     ]
    }
   ],
   "source": [
    "vectorstore=create_vector_db()"
   ]
  },
  {
   "cell_type": "markdown",
   "id": "f9dedaff-3f8c-42df-96f2-c543bddede1b",
   "metadata": {},
   "source": [
    "#### Embeddubg The Context From Web into Vector database"
   ]
  },
  {
   "cell_type": "code",
   "execution_count": 13,
   "id": "9c898514-c784-4414-b447-adaf7272c37d",
   "metadata": {},
   "outputs": [],
   "source": [
    "QUERY_PROMPT = PromptTemplate(\n",
    "    input_variables=[\"question\"],\n",
    "    template=\"\"\"You are an AI Expert model assistant Financial analysis . Your task is to provide Full \n",
    "    different defination of Gross margin of Project Bussnies of the given user question to retrieve relevant documents from\n",
    "    a vector database. By generating unique Answer depends on user Question perspectives on the user question.\n",
    "    Original question: {question}\"\"\",\n",
    ")\n"
   ]
  },
  {
   "cell_type": "code",
   "execution_count": null,
   "id": "162e1a9f-c66a-4a78-987f-41acf312ed80",
   "metadata": {},
   "outputs": [],
   "source": [
    "%%capture\n",
    "!curl https://ollama.ai/install.sh | sh\n"
   ]
  },
  {
   "cell_type": "code",
   "execution_count": null,
   "id": "801564fb-d820-4644-adf7-063189ad4873",
   "metadata": {},
   "outputs": [],
   "source": [
    "!sudo apt install -y neofetch"
   ]
  },
  {
   "cell_type": "code",
   "execution_count": null,
   "id": "91afe329-46c9-470b-a22e-55171a8efdf4",
   "metadata": {},
   "outputs": [],
   "source": [
    "%%capture\n",
    "!ollama pull gemma:7b"
   ]
  },
  {
   "cell_type": "code",
   "execution_count": 4,
   "id": "62753fca-0049-43c9-b2f7-e4f3563330b5",
   "metadata": {},
   "outputs": [],
   "source": [
    "from langchain_community.llms import Ollama"
   ]
  },
  {
   "cell_type": "code",
   "execution_count": 5,
   "id": "d865615c-2095-4e5e-ba82-16da29c4ddc6",
   "metadata": {},
   "outputs": [],
   "source": [
    "# Add the LLM downloaded from Ollama\n",
    "ollama_llm = \"gemma:2b\"\n",
    "llm = Ollama(model=ollama_llm)"
   ]
  },
  {
   "cell_type": "code",
   "execution_count": 14,
   "id": "cc3b5e0c-092c-4237-aae3-63b32a6e1213",
   "metadata": {},
   "outputs": [],
   "source": [
    "# Run\n",
    "retriever = MultiQueryRetriever.from_llm(\n",
    "    vectorstore.as_retriever(), llm, prompt=QUERY_PROMPT\n",
    ")  \n",
    "\n",
    "# RAG prompt\n",
    "template = \"\"\"Answer the question the following context:\n",
    "{context}\n",
    "Question: {question}\n",
    "\"\"\"\n",
    "prompt = ChatPromptTemplate.from_template(template)"
   ]
  },
  {
   "cell_type": "code",
   "execution_count": 15,
   "id": "9788c1f2-a951-429b-945a-19260af0960d",
   "metadata": {},
   "outputs": [
    {
     "data": {
      "text/plain": [
       "\"**Gross Margin KPIs** are metrics that measure the efficiency and profitability of a company's core operations. They focus on the percentage of revenue that is retained after the cost of goods sold has been deducted.\\n\\nGross margin KPIs help businesses evaluate their overall performance and identify areas for improvement. Examples of gross margin KPIs include:\\n\\n- Gross Profit Margin\\n- Gross Margin Ratio\\n- Gross Margin Percentage\""
      ]
     },
     "execution_count": 15,
     "metadata": {},
     "output_type": "execute_result"
    }
   ],
   "source": [
    "# Chain\n",
    "chain = (\n",
    "    {\"context\": retriever, \"question\": RunnablePassthrough()}\n",
    "    | prompt\n",
    "    | llm\n",
    "    | StrOutputParser()\n",
    ")\n",
    "\n",
    "# Question\n",
    "chain.invoke(\"What is gross margin KPIs?\")\n"
   ]
  }
 ],
 "metadata": {
  "kernelspec": {
   "display_name": "Python 3 (ipykernel)",
   "language": "python",
   "name": "python3"
  },
  "language_info": {
   "codemirror_mode": {
    "name": "ipython",
    "version": 3
   },
   "file_extension": ".py",
   "mimetype": "text/x-python",
   "name": "python",
   "nbconvert_exporter": "python",
   "pygments_lexer": "ipython3",
   "version": "3.11.8"
  }
 },
 "nbformat": 4,
 "nbformat_minor": 5
}
